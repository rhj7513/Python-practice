{
  "nbformat": 4,
  "nbformat_minor": 0,
  "metadata": {
    "colab": {
      "name": "Untitled1.ipynb",
      "provenance": [],
      "authorship_tag": "ABX9TyN596rI/kzoemAKoxpaxeuY",
      "include_colab_link": true
    },
    "kernelspec": {
      "name": "python3",
      "display_name": "Python 3"
    },
    "language_info": {
      "name": "python"
    }
  },
  "cells": [
    {
      "cell_type": "markdown",
      "metadata": {
        "id": "view-in-github",
        "colab_type": "text"
      },
      "source": [
        "<a href=\"https://colab.research.google.com/github/rhj7513/Python-practice/blob/main/Book.ipynb\" target=\"_parent\"><img src=\"https://colab.research.google.com/assets/colab-badge.svg\" alt=\"Open In Colab\"/></a>"
      ]
    },
    {
      "cell_type": "markdown",
      "source": [
        "# 파이썬 책 따라하기"
      ],
      "metadata": {
        "id": "FvxvFzHRb9Rr"
      }
    },
    {
      "cell_type": "code",
      "execution_count": 1,
      "metadata": {
        "colab": {
          "base_uri": "https://localhost:8080/"
        },
        "id": "_o-913-ObmcI",
        "outputId": "2de680f2-fb7d-4297-b43e-a92f4bc78eaf"
      },
      "outputs": [
        {
          "output_type": "stream",
          "name": "stdout",
          "text": [
            "{'a': 10, 'b': 20, 'c': 30, 'd': 40, 'e': None}\n"
          ]
        }
      ],
      "source": [
        "# p358 25장 딕셔너리 응용하기\n",
        "x = {'a':10,'b':20,'c':30,\"d\":40}\n",
        "x.setdefault('e')\n",
        "print(x)"
      ]
    },
    {
      "cell_type": "code",
      "source": [
        "x = {'a':10,'b':20,'c':30,\"d\":40}\n",
        "x.update(e=50)\n",
        "print(x)"
      ],
      "metadata": {
        "colab": {
          "base_uri": "https://localhost:8080/"
        },
        "id": "8xW6uH6XcG02",
        "outputId": "2a797ac3-bbf1-4ca2-ff73-ff44eb321f83"
      },
      "execution_count": 2,
      "outputs": [
        {
          "output_type": "stream",
          "name": "stdout",
          "text": [
            "{'a': 10, 'b': 20, 'c': 30, 'd': 40, 'e': 50}\n"
          ]
        }
      ]
    },
    {
      "cell_type": "code",
      "source": [
        "# p.367\n",
        "# x={key: value for key, value in dict.fromkeys(keys).itesm()} -> 길게 바꿔봐유\n",
        "x = {'a':10, 'b':20, 'c':30, 'd':40}\n",
        "for key, value in x.items():\n",
        "  print(key,value,end=' ')"
      ],
      "metadata": {
        "colab": {
          "base_uri": "https://localhost:8080/"
        },
        "id": "_0d6UZUdcH59",
        "outputId": "0797cdc0-fc8d-4267-8105-7ab375a07a49"
      },
      "execution_count": 3,
      "outputs": [
        {
          "output_type": "stream",
          "name": "stdout",
          "text": [
            "a 10 b 20 c 30 d 40 "
          ]
        }
      ]
    },
    {
      "cell_type": "code",
      "source": [
        "# x={key: 0 for key in dict.fromkeys(['a', 'b', 'c', 'd']).keys()} -> 길게 바꿔봐유\n",
        "x = {'a':10, 'b':20, 'c':30, 'd':40}\n",
        "for key in x.keys():\n",
        "  print(key, end=' ')"
      ],
      "metadata": {
        "colab": {
          "base_uri": "https://localhost:8080/"
        },
        "id": "hpkkQjHbcJ5i",
        "outputId": "165c3f7e-beba-4158-bb19-10be55e36761"
      },
      "execution_count": 4,
      "outputs": [
        {
          "output_type": "stream",
          "name": "stdout",
          "text": [
            "a b c d "
          ]
        }
      ]
    },
    {
      "cell_type": "code",
      "source": [
        "# x={} -> 길게 바꿔봐유\n",
        "x = {'a':10, 'b':20, 'c':30, 'd':40}\n",
        "for key in x.keys():\n",
        "  print(key, end=' ')"
      ],
      "metadata": {
        "colab": {
          "base_uri": "https://localhost:8080/"
        },
        "id": "GrlLbNGFcK-z",
        "outputId": "e6b3c5d5-026f-441f-b24c-173c9343f02e"
      },
      "execution_count": 5,
      "outputs": [
        {
          "output_type": "stream",
          "name": "stdout",
          "text": [
            "a b c d "
          ]
        }
      ]
    },
    {
      "cell_type": "code",
      "source": [
        "# p.368\n",
        "# 딕셔너리 표현식에 if조건문 사용해서 값 삭제할 때 오류 발생\n",
        "x = {'a':10, 'b':20, 'c':30, 'd':40}\n",
        "\n",
        "for key, value in x.items():\n",
        "  if value == 20:\n",
        "    del x[key]\n",
        "print(x)\n",
        "# 오류 발생 -> 반복문을 돌리면 x의 개수만큼 돌아가는데 삭제 해버리면 개수 안 맞아서 오류 발생"
      ],
      "metadata": {
        "colab": {
          "base_uri": "https://localhost:8080/",
          "height": 248
        },
        "id": "YwXEV43ccMap",
        "outputId": "587aa283-a444-45b4-d390-151c7a880880"
      },
      "execution_count": 6,
      "outputs": [
        {
          "output_type": "error",
          "ename": "RuntimeError",
          "evalue": "ignored",
          "traceback": [
            "\u001b[0;31m---------------------------------------------------------------------------\u001b[0m",
            "\u001b[0;31mRuntimeError\u001b[0m                              Traceback (most recent call last)",
            "\u001b[0;32m<ipython-input-6-1910a06307b1>\u001b[0m in \u001b[0;36m<module>\u001b[0;34m()\u001b[0m\n\u001b[1;32m      3\u001b[0m \u001b[0mx\u001b[0m \u001b[0;34m=\u001b[0m \u001b[0;34m{\u001b[0m\u001b[0;34m'a'\u001b[0m\u001b[0;34m:\u001b[0m\u001b[0;36m10\u001b[0m\u001b[0;34m,\u001b[0m \u001b[0;34m'b'\u001b[0m\u001b[0;34m:\u001b[0m\u001b[0;36m20\u001b[0m\u001b[0;34m,\u001b[0m \u001b[0;34m'c'\u001b[0m\u001b[0;34m:\u001b[0m\u001b[0;36m30\u001b[0m\u001b[0;34m,\u001b[0m \u001b[0;34m'd'\u001b[0m\u001b[0;34m:\u001b[0m\u001b[0;36m40\u001b[0m\u001b[0;34m}\u001b[0m\u001b[0;34m\u001b[0m\u001b[0;34m\u001b[0m\u001b[0m\n\u001b[1;32m      4\u001b[0m \u001b[0;34m\u001b[0m\u001b[0m\n\u001b[0;32m----> 5\u001b[0;31m \u001b[0;32mfor\u001b[0m \u001b[0mkey\u001b[0m\u001b[0;34m,\u001b[0m \u001b[0mvalue\u001b[0m \u001b[0;32min\u001b[0m \u001b[0mx\u001b[0m\u001b[0;34m.\u001b[0m\u001b[0mitems\u001b[0m\u001b[0;34m(\u001b[0m\u001b[0;34m)\u001b[0m\u001b[0;34m:\u001b[0m\u001b[0;34m\u001b[0m\u001b[0;34m\u001b[0m\u001b[0m\n\u001b[0m\u001b[1;32m      6\u001b[0m   \u001b[0;32mif\u001b[0m \u001b[0mvalue\u001b[0m \u001b[0;34m==\u001b[0m \u001b[0;36m20\u001b[0m\u001b[0;34m:\u001b[0m\u001b[0;34m\u001b[0m\u001b[0;34m\u001b[0m\u001b[0m\n\u001b[1;32m      7\u001b[0m     \u001b[0;32mdel\u001b[0m \u001b[0mx\u001b[0m\u001b[0;34m[\u001b[0m\u001b[0mkey\u001b[0m\u001b[0;34m]\u001b[0m\u001b[0;34m\u001b[0m\u001b[0;34m\u001b[0m\u001b[0m\n",
            "\u001b[0;31mRuntimeError\u001b[0m: dictionary changed size during iteration"
          ]
        }
      ]
    }
  ]
}
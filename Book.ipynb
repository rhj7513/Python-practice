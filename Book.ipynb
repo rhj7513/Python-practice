{
  "nbformat": 4,
  "nbformat_minor": 0,
  "metadata": {
    "colab": {
      "name": "Untitled1.ipynb",
      "provenance": [],
      "toc_visible": true,
      "authorship_tag": "ABX9TyOfFqkFxntpYsNdqsHPPIQU",
      "include_colab_link": true
    },
    "kernelspec": {
      "name": "python3",
      "display_name": "Python 3"
    },
    "language_info": {
      "name": "python"
    }
  },
  "cells": [
    {
      "cell_type": "markdown",
      "metadata": {
        "id": "view-in-github",
        "colab_type": "text"
      },
      "source": [
        "<a href=\"https://colab.research.google.com/github/rhj7513/Python-practice/blob/main/Book.ipynb\" target=\"_parent\"><img src=\"https://colab.research.google.com/assets/colab-badge.svg\" alt=\"Open In Colab\"/></a>"
      ]
    },
    {
      "cell_type": "markdown",
      "source": [
        "# 파이썬 책 따라하기"
      ],
      "metadata": {
        "id": "FvxvFzHRb9Rr"
      }
    },
    {
      "cell_type": "code",
      "execution_count": null,
      "metadata": {
        "colab": {
          "base_uri": "https://localhost:8080/"
        },
        "id": "_o-913-ObmcI",
        "outputId": "2de680f2-fb7d-4297-b43e-a92f4bc78eaf"
      },
      "outputs": [
        {
          "output_type": "stream",
          "name": "stdout",
          "text": [
            "{'a': 10, 'b': 20, 'c': 30, 'd': 40, 'e': None}\n"
          ]
        }
      ],
      "source": [
        "# p358 25장 딕셔너리 응용하기\n",
        "x = {'a':10,'b':20,'c':30,\"d\":40}\n",
        "x.setdefault('e')\n",
        "print(x)"
      ]
    },
    {
      "cell_type": "code",
      "source": [
        "x = {'a':10,'b':20,'c':30,\"d\":40}\n",
        "x.update(e=50)\n",
        "print(x)"
      ],
      "metadata": {
        "colab": {
          "base_uri": "https://localhost:8080/"
        },
        "id": "8xW6uH6XcG02",
        "outputId": "2a797ac3-bbf1-4ca2-ff73-ff44eb321f83"
      },
      "execution_count": null,
      "outputs": [
        {
          "output_type": "stream",
          "name": "stdout",
          "text": [
            "{'a': 10, 'b': 20, 'c': 30, 'd': 40, 'e': 50}\n"
          ]
        }
      ]
    },
    {
      "cell_type": "code",
      "source": [
        "# p.367\n",
        "# x={key: value for key, value in dict.fromkeys(keys).itesm()} -> 길게 바꿔봐유\n",
        "x = {'a':10, 'b':20, 'c':30, 'd':40}\n",
        "for key, value in x.items():\n",
        "  print(key,value,end=' ')"
      ],
      "metadata": {
        "colab": {
          "base_uri": "https://localhost:8080/"
        },
        "id": "_0d6UZUdcH59",
        "outputId": "0797cdc0-fc8d-4267-8105-7ab375a07a49"
      },
      "execution_count": null,
      "outputs": [
        {
          "output_type": "stream",
          "name": "stdout",
          "text": [
            "a 10 b 20 c 30 d 40 "
          ]
        }
      ]
    },
    {
      "cell_type": "code",
      "source": [
        "# x={key: 0 for key in dict.fromkeys(['a', 'b', 'c', 'd']).keys()} -> 길게 바꿔봐유\n",
        "x = {'a':10, 'b':20, 'c':30, 'd':40}\n",
        "for key in x.keys():\n",
        "  print(key, end=' ')"
      ],
      "metadata": {
        "colab": {
          "base_uri": "https://localhost:8080/"
        },
        "id": "hpkkQjHbcJ5i",
        "outputId": "165c3f7e-beba-4158-bb19-10be55e36761"
      },
      "execution_count": null,
      "outputs": [
        {
          "output_type": "stream",
          "name": "stdout",
          "text": [
            "a b c d "
          ]
        }
      ]
    },
    {
      "cell_type": "code",
      "source": [
        "# x={} -> 길게 바꿔봐유\n",
        "x = {'a':10, 'b':20, 'c':30, 'd':40}\n",
        "for key in x.keys():\n",
        "  print(key, end=' ')"
      ],
      "metadata": {
        "colab": {
          "base_uri": "https://localhost:8080/"
        },
        "id": "GrlLbNGFcK-z",
        "outputId": "e6b3c5d5-026f-441f-b24c-173c9343f02e"
      },
      "execution_count": null,
      "outputs": [
        {
          "output_type": "stream",
          "name": "stdout",
          "text": [
            "a b c d "
          ]
        }
      ]
    },
    {
      "cell_type": "code",
      "source": [
        "# p.368\n",
        "# 딕셔너리 표현식에 if조건문 사용해서 값 삭제할 때 오류 발생\n",
        "x = {'a':10, 'b':20, 'c':30, 'd':40}\n",
        "\n",
        "for key, value in x.items():\n",
        "  if value == 20:\n",
        "    del x[key]\n",
        "print(x)\n",
        "# 오류 발생 -> 반복문을 돌리면 x의 개수만큼 돌아가는데 삭제 해버리면 개수 안 맞아서 오류 발생"
      ],
      "metadata": {
        "colab": {
          "base_uri": "https://localhost:8080/",
          "height": 248
        },
        "id": "YwXEV43ccMap",
        "outputId": "587aa283-a444-45b4-d390-151c7a880880"
      },
      "execution_count": null,
      "outputs": [
        {
          "output_type": "error",
          "ename": "RuntimeError",
          "evalue": "ignored",
          "traceback": [
            "\u001b[0;31m---------------------------------------------------------------------------\u001b[0m",
            "\u001b[0;31mRuntimeError\u001b[0m                              Traceback (most recent call last)",
            "\u001b[0;32m<ipython-input-6-1910a06307b1>\u001b[0m in \u001b[0;36m<module>\u001b[0;34m()\u001b[0m\n\u001b[1;32m      3\u001b[0m \u001b[0mx\u001b[0m \u001b[0;34m=\u001b[0m \u001b[0;34m{\u001b[0m\u001b[0;34m'a'\u001b[0m\u001b[0;34m:\u001b[0m\u001b[0;36m10\u001b[0m\u001b[0;34m,\u001b[0m \u001b[0;34m'b'\u001b[0m\u001b[0;34m:\u001b[0m\u001b[0;36m20\u001b[0m\u001b[0;34m,\u001b[0m \u001b[0;34m'c'\u001b[0m\u001b[0;34m:\u001b[0m\u001b[0;36m30\u001b[0m\u001b[0;34m,\u001b[0m \u001b[0;34m'd'\u001b[0m\u001b[0;34m:\u001b[0m\u001b[0;36m40\u001b[0m\u001b[0;34m}\u001b[0m\u001b[0;34m\u001b[0m\u001b[0;34m\u001b[0m\u001b[0m\n\u001b[1;32m      4\u001b[0m \u001b[0;34m\u001b[0m\u001b[0m\n\u001b[0;32m----> 5\u001b[0;31m \u001b[0;32mfor\u001b[0m \u001b[0mkey\u001b[0m\u001b[0;34m,\u001b[0m \u001b[0mvalue\u001b[0m \u001b[0;32min\u001b[0m \u001b[0mx\u001b[0m\u001b[0;34m.\u001b[0m\u001b[0mitems\u001b[0m\u001b[0;34m(\u001b[0m\u001b[0;34m)\u001b[0m\u001b[0;34m:\u001b[0m\u001b[0;34m\u001b[0m\u001b[0;34m\u001b[0m\u001b[0m\n\u001b[0m\u001b[1;32m      6\u001b[0m   \u001b[0;32mif\u001b[0m \u001b[0mvalue\u001b[0m \u001b[0;34m==\u001b[0m \u001b[0;36m20\u001b[0m\u001b[0;34m:\u001b[0m\u001b[0;34m\u001b[0m\u001b[0;34m\u001b[0m\u001b[0m\n\u001b[1;32m      7\u001b[0m     \u001b[0;32mdel\u001b[0m \u001b[0mx\u001b[0m\u001b[0;34m[\u001b[0m\u001b[0mkey\u001b[0m\u001b[0;34m]\u001b[0m\u001b[0;34m\u001b[0m\u001b[0;34m\u001b[0m\u001b[0m\n",
            "\u001b[0;31mRuntimeError\u001b[0m: dictionary changed size during iteration"
          ]
        }
      ]
    },
    {
      "cell_type": "markdown",
      "source": [
        "# 27장 파일 사용하기 p.400"
      ],
      "metadata": {
        "id": "Ve819mO5HGM5"
      }
    },
    {
      "cell_type": "code",
      "source": [
        "file = open('hello.txt','w')\n",
        "file.write('Hello, world!')\n",
        "s = file.read()\n",
        "print(s)\n",
        "file.close()\n",
        "\n",
        "\n"
      ],
      "metadata": {
        "colab": {
          "base_uri": "https://localhost:8080/",
          "height": 248
        },
        "id": "2iIqK9H3HEe0",
        "outputId": "ff024dc5-fc33-4337-d44c-fb1492caad43"
      },
      "execution_count": null,
      "outputs": [
        {
          "output_type": "error",
          "ename": "UnsupportedOperation",
          "evalue": "ignored",
          "traceback": [
            "\u001b[0;31m---------------------------------------------------------------------------\u001b[0m",
            "\u001b[0;31mUnsupportedOperation\u001b[0m                      Traceback (most recent call last)",
            "\u001b[0;32m<ipython-input-8-f446a5b746d2>\u001b[0m in \u001b[0;36m<module>\u001b[0;34m()\u001b[0m\n\u001b[1;32m      1\u001b[0m \u001b[0mfile\u001b[0m \u001b[0;34m=\u001b[0m \u001b[0mopen\u001b[0m\u001b[0;34m(\u001b[0m\u001b[0;34m'hello.txt'\u001b[0m\u001b[0;34m,\u001b[0m\u001b[0;34m'w'\u001b[0m\u001b[0;34m)\u001b[0m\u001b[0;34m\u001b[0m\u001b[0;34m\u001b[0m\u001b[0m\n\u001b[1;32m      2\u001b[0m \u001b[0mfile\u001b[0m\u001b[0;34m.\u001b[0m\u001b[0mwrite\u001b[0m\u001b[0;34m(\u001b[0m\u001b[0;34m'Hello, world!'\u001b[0m\u001b[0;34m)\u001b[0m\u001b[0;34m\u001b[0m\u001b[0;34m\u001b[0m\u001b[0m\n\u001b[0;32m----> 3\u001b[0;31m \u001b[0ms\u001b[0m \u001b[0;34m=\u001b[0m \u001b[0mfile\u001b[0m\u001b[0;34m.\u001b[0m\u001b[0mread\u001b[0m\u001b[0;34m(\u001b[0m\u001b[0;34m)\u001b[0m\u001b[0;34m\u001b[0m\u001b[0;34m\u001b[0m\u001b[0m\n\u001b[0m\u001b[1;32m      4\u001b[0m \u001b[0mprint\u001b[0m\u001b[0;34m(\u001b[0m\u001b[0ms\u001b[0m\u001b[0;34m)\u001b[0m\u001b[0;34m\u001b[0m\u001b[0;34m\u001b[0m\u001b[0m\n\u001b[1;32m      5\u001b[0m \u001b[0mfile\u001b[0m\u001b[0;34m.\u001b[0m\u001b[0mclose\u001b[0m\u001b[0;34m(\u001b[0m\u001b[0;34m)\u001b[0m\u001b[0;34m\u001b[0m\u001b[0;34m\u001b[0m\u001b[0m\n",
            "\u001b[0;31mUnsupportedOperation\u001b[0m: not readable"
          ]
        }
      ]
    },
    {
      "cell_type": "code",
      "source": [
        ""
      ],
      "metadata": {
        "colab": {
          "base_uri": "https://localhost:8080/",
          "height": 192
        },
        "id": "yFogspIwH-j4",
        "outputId": "61a1c922-50ff-4dc5-e97c-11ef56e5fef8"
      },
      "execution_count": null,
      "outputs": [
        {
          "output_type": "error",
          "ename": "UnsupportedOperation",
          "evalue": "ignored",
          "traceback": [
            "\u001b[0;31m---------------------------------------------------------------------------\u001b[0m",
            "\u001b[0;31mUnsupportedOperation\u001b[0m                      Traceback (most recent call last)",
            "\u001b[0;32m<ipython-input-3-f3fd02d62277>\u001b[0m in \u001b[0;36m<module>\u001b[0;34m()\u001b[0m\n\u001b[0;32m----> 1\u001b[0;31m \u001b[0ms\u001b[0m \u001b[0;34m=\u001b[0m \u001b[0mfile\u001b[0m\u001b[0;34m.\u001b[0m\u001b[0mread\u001b[0m\u001b[0;34m(\u001b[0m\u001b[0;34m)\u001b[0m\u001b[0;34m\u001b[0m\u001b[0;34m\u001b[0m\u001b[0m\n\u001b[0m\u001b[1;32m      2\u001b[0m \u001b[0mprint\u001b[0m\u001b[0;34m(\u001b[0m\u001b[0ms\u001b[0m\u001b[0;34m)\u001b[0m\u001b[0;34m\u001b[0m\u001b[0;34m\u001b[0m\u001b[0m\n",
            "\u001b[0;31mUnsupportedOperation\u001b[0m: not readable"
          ]
        }
      ]
    },
    {
      "cell_type": "code",
      "source": [
        "with open('hello.txt', 'r') as file:\n",
        "  s = file.read()\n",
        "  print(s)"
      ],
      "metadata": {
        "colab": {
          "base_uri": "https://localhost:8080/"
        },
        "id": "ghzCa3ldIXo9",
        "outputId": "deb8429e-6d0a-4497-8aa0-4a5ce61bdd42"
      },
      "execution_count": null,
      "outputs": [
        {
          "output_type": "stream",
          "name": "stdout",
          "text": [
            "Hello, world!\n"
          ]
        }
      ]
    },
    {
      "cell_type": "code",
      "source": [
        "# 파이썬 객체를 파일에 저장하기 p.407"
      ],
      "metadata": {
        "id": "c88owAPhIuQ2"
      },
      "execution_count": null,
      "outputs": []
    },
    {
      "cell_type": "code",
      "source": [
        "import pickle\n",
        "\n",
        "name = 'james'\n",
        "age = 17\n",
        "address ='서울시 서초구 반포동'\n",
        "scores = {'korean':90, 'english': 95, 'mathematics': 85, 'science': 82}\n",
        "\n",
        "with open('james.p', 'wb') as file:\n",
        "  pickle.dump(name, file)\n",
        "  pickle.dump(age, file)\n",
        "  pickle.dump(address, file)\n",
        "  pickle.dump(scores, file)\n",
        "  # 파일 실행하면 다 개져서 나온다.\n"
      ],
      "metadata": {
        "id": "a8mfIYBYLzpE"
      },
      "execution_count": null,
      "outputs": []
    },
    {
      "cell_type": "code",
      "source": [
        "import pickle\n",
        "\n",
        "with open('james,p', 'rb') as file:\n",
        "  name = pickle.load(file)\n",
        "  age = pickle.load(file)\n",
        "  address = pickle.load(file)\n",
        "  scores = pickle.load(file)\n",
        "  print(name)\n",
        "  print(age)\n",
        "  print(address)\n",
        "  print(scores)"
      ],
      "metadata": {
        "colab": {
          "base_uri": "https://localhost:8080/",
          "height": 248
        },
        "id": "wdGt_p18NF3k",
        "outputId": "702060f5-1d4f-4455-abe0-3cc797e9ec23"
      },
      "execution_count": null,
      "outputs": [
        {
          "output_type": "error",
          "ename": "FileNotFoundError",
          "evalue": "ignored",
          "traceback": [
            "\u001b[0;31m---------------------------------------------------------------------------\u001b[0m",
            "\u001b[0;31mFileNotFoundError\u001b[0m                         Traceback (most recent call last)",
            "\u001b[0;32m<ipython-input-10-28f17fe7314a>\u001b[0m in \u001b[0;36m<module>\u001b[0;34m()\u001b[0m\n\u001b[1;32m      1\u001b[0m \u001b[0;32mimport\u001b[0m \u001b[0mpickle\u001b[0m\u001b[0;34m\u001b[0m\u001b[0;34m\u001b[0m\u001b[0m\n\u001b[1;32m      2\u001b[0m \u001b[0;34m\u001b[0m\u001b[0m\n\u001b[0;32m----> 3\u001b[0;31m \u001b[0;32mwith\u001b[0m \u001b[0mopen\u001b[0m\u001b[0;34m(\u001b[0m\u001b[0;34m'james,p'\u001b[0m\u001b[0;34m,\u001b[0m \u001b[0;34m'rb'\u001b[0m\u001b[0;34m)\u001b[0m \u001b[0;32mas\u001b[0m \u001b[0mfile\u001b[0m\u001b[0;34m:\u001b[0m\u001b[0;34m\u001b[0m\u001b[0;34m\u001b[0m\u001b[0m\n\u001b[0m\u001b[1;32m      4\u001b[0m   \u001b[0mname\u001b[0m \u001b[0;34m=\u001b[0m \u001b[0mpickle\u001b[0m\u001b[0;34m.\u001b[0m\u001b[0mload\u001b[0m\u001b[0;34m(\u001b[0m\u001b[0mfile\u001b[0m\u001b[0;34m)\u001b[0m\u001b[0;34m\u001b[0m\u001b[0;34m\u001b[0m\u001b[0m\n\u001b[1;32m      5\u001b[0m   \u001b[0mage\u001b[0m \u001b[0;34m=\u001b[0m \u001b[0mpickle\u001b[0m\u001b[0;34m.\u001b[0m\u001b[0mload\u001b[0m\u001b[0;34m(\u001b[0m\u001b[0mfile\u001b[0m\u001b[0;34m)\u001b[0m\u001b[0;34m\u001b[0m\u001b[0;34m\u001b[0m\u001b[0m\n",
            "\u001b[0;31mFileNotFoundError\u001b[0m: [Errno 2] No such file or directory: 'james,p'"
          ]
        }
      ]
    },
    {
      "cell_type": "markdown",
      "source": [
        "# 29자유함수에서 값을 여러개 반환하기 p.432"
      ],
      "metadata": {
        "id": "MC3hptp4Ot5h"
      }
    },
    {
      "cell_type": "code",
      "source": [
        "def add_sub(a, b):\n",
        "  x, y = add_sub(10, 20) # 값이 넘어올 때 바뀌면 안 되기 때문에 튜플 사용 (튜플은 값이 안 바뀌기 때문에 그렇다) \n",
        "  print(x)\n",
        "  print(y)\n",
        "\n"
      ],
      "metadata": {
        "id": "KPzbgAhVOssn"
      },
      "execution_count": null,
      "outputs": []
    },
    {
      "cell_type": "code",
      "source": [
        "def add_sub(a,b):\n",
        "  x = add_sub(10, 20)\n",
        "  print(x)\n",
        "\n"
      ],
      "metadata": {
        "id": "YmAHkVSjPF5g"
      },
      "execution_count": null,
      "outputs": []
    },
    {
      "cell_type": "code",
      "source": [
        "def add_sub(a,b):\n",
        "  x , y = (30, -10)\n",
        "  print(x)\n",
        "  print(y)"
      ],
      "metadata": {
        "id": "GUe9E24lPZuU"
      },
      "execution_count": null,
      "outputs": []
    },
    {
      "cell_type": "markdown",
      "source": [
        "# 32장 람다 표현식"
      ],
      "metadata": {
        "id": "28_n3QMecZ5c"
      }
    },
    {
      "cell_type": "code",
      "source": [
        "# p.470 다시 생각해봐"
      ],
      "metadata": {
        "id": "X-SpQtoFYCOT"
      },
      "execution_count": null,
      "outputs": []
    },
    {
      "cell_type": "code",
      "source": [
        "a=[1, 2, 3, 4, 5, 6, 7, 8, 9, 10]\n",
        "# list(map(lambda x: str(x) if x % 3 == 0 else x ,a)) -> def로 바꿔\n",
        "\n",
        "def aa(x):\n",
        "  for i in range(len(a)):\n",
        "    # if x % 3 == 0: x를 나누면 리스트 전체 나눈다는 얘기잖아 멍청아\n",
        "    if x[i] % 3 == 0:\n",
        "      x[i] = str(x[i])\n",
        "    else:\n",
        "      continue\n",
        "aa(a)\n",
        "\n"
      ],
      "metadata": {
        "colab": {
          "base_uri": "https://localhost:8080/"
        },
        "id": "rt4W-VNyllxp",
        "outputId": "9d64019b-1379-45df-edd6-c4712e520ac1"
      },
      "execution_count": 26,
      "outputs": [
        {
          "output_type": "stream",
          "name": "stdout",
          "text": [
            "[1, 2, '3', 4, 5, '6', 7, 8, '9', 10]\n"
          ]
        }
      ]
    },
    {
      "cell_type": "markdown",
      "source": [
        "# 33장 클로저 사용하기"
      ],
      "metadata": {
        "id": "LHwlTx04t0ET"
      }
    },
    {
      "cell_type": "code",
      "source": [
        "def calc():\n",
        "  a = 3\n",
        "  b = 5\n",
        "  def mul_add(x):\n",
        "    return a * x + b\n",
        "  return mul_add\n",
        "c = calc()                                  #mul_add함수 받음\n",
        "print(c(1), c(2), c(3), c(4), c(5))         #c(1) -> mul_add(1) -> a * 1 + b"
      ],
      "metadata": {
        "colab": {
          "base_uri": "https://localhost:8080/"
        },
        "id": "WVnL3aZSt3vB",
        "outputId": "cb9ceced-1ec5-45ed-9cd1-6053813bcc12"
      },
      "execution_count": 27,
      "outputs": [
        {
          "output_type": "stream",
          "name": "stdout",
          "text": [
            "8 11 14 17 20\n"
          ]
        }
      ]
    },
    {
      "cell_type": "code",
      "source": [
        "# lambda로 클로저 만들기 p.487"
      ],
      "metadata": {
        "id": "z_kkt4zZuhz8"
      },
      "execution_count": null,
      "outputs": []
    },
    {
      "cell_type": "code",
      "source": [
        ""
      ],
      "metadata": {
        "id": "5u4gFFyOulZ8"
      },
      "execution_count": null,
      "outputs": []
    }
  ]
}